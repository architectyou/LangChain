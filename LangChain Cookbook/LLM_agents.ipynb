{
 "cells": [
  {
   "cell_type": "code",
   "execution_count": null,
   "metadata": {},
   "outputs": [],
   "source": [
    "\"\"\"\n",
    "LLM Agents with LangChain When RAG is Not Enough\n",
    "\n",
    "https://medium.com/towards-data-science/intro-to-llm-agents-with-langchain-when-rag-is-not-enough-7d8c08145834\n",
    "\"\"\""
   ]
  },
  {
   "cell_type": "code",
   "execution_count": null,
   "metadata": {},
   "outputs": [],
   "source": [
    "from langchain import hub\n",
    "from langchain.chains import SequentialChain\n",
    "\n",
    "cot_step1 = hub.pull(\"rachnogstyle/nlw_jan24_cot_step1\")\n",
    "cot_step2 = hub.pull(\"rachnogstyle/nlw_jan24_cot_step2\")\n",
    "cot_step3 = hub.pull(\"rachnogstyle/nlw_jan24_cot_step3\")\n",
    "cot_step4 = hub.pull(\"rachnogstyle/nlw_jan24_cot_step4\")\n",
    "\n",
    "model = \"gpt-3.5-turbo\"\n",
    "\n",
    "chain1 = LLMChain(\n",
    "    llm = ChatOpenAI(temperature = 0, model = model),\n",
    "    prompt = cot_step1,\n",
    "    output_key = \"solutions\"\n",
    ")\n",
    "\n",
    "chain2 = LLMChain(\n",
    "    llm = ChatOpenAI(temperature = 0, model = model),\n",
    "    prompt = cot_step2,\n",
    "    output_key = \"review\"\n",
    ")\n",
    "\n",
    "chain3 = LLMChain(\n",
    "    llm = ChatOpenAI(temperature = 0, model = model),\n",
    "    prompt = cot_step3,\n",
    "    output_key = \"deepen_thought_process\"\n",
    ")\n",
    "\n",
    "chain4 = LLMChain(\n",
    "    llm = ChatOpenAI(temperature = 0, model = model),\n",
    "    prompt = cot_step4,\n",
    "    output_key = \"ranked_solutions\"\n",
    ")\n",
    "\n",
    "overall_chain = SequentialChain(\n",
    "    chains = [chain1, chain2, chain3, chain4],\n",
    "    input_variables = [\"input\", \"perfect_factors\"],\n",
    "    output_variables = [\"ranked_solutions\"],\n",
    "    verbose = True\n",
    ")"
   ]
  },
  {
   "cell_type": "code",
   "execution_count": null,
   "metadata": {},
   "outputs": [],
   "source": []
  },
  {
   "cell_type": "code",
   "execution_count": null,
   "metadata": {},
   "outputs": [],
   "source": []
  },
  {
   "cell_type": "code",
   "execution_count": null,
   "metadata": {},
   "outputs": [],
   "source": []
  }
 ],
 "metadata": {
  "kernelspec": {
   "display_name": "llm",
   "language": "python",
   "name": "llm"
  },
  "language_info": {
   "name": "python",
   "version": "3.8.18"
  }
 },
 "nbformat": 4,
 "nbformat_minor": 2
}
