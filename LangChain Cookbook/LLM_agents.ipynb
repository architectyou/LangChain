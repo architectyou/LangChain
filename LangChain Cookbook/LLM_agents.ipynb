{
 "cells": [
  {
   "cell_type": "code",
   "execution_count": null,
   "metadata": {},
   "outputs": [],
   "source": [
    "\"\"\"\n",
    "LLM Agents with LangChain When RAG is Not Enough\n",
    "\n",
    "https://medium.com/towards-data-science/intro-to-llm-agents-with-langchain-when-rag-is-not-enough-7d8c08145834\n",
    "\"\"\""
   ]
  },
  {
   "cell_type": "code",
   "execution_count": null,
   "metadata": {},
   "outputs": [],
   "source": [
    "from langchain import hub\n",
    "from langchain.chains import SequentialChain\n",
    "\n",
    "cot_step1 = hub.pull(\"rachnogstyle/nlw_jan24_cot_step1\")\n",
    "cot_step2 = hub.pull(\"rachnogstyle/nlw_jan24_cot_step2\")\n",
    "cot_step3 = hub.pull(\"rachnogstyle/nlw_jan24_cot_step3\")\n",
    "cot_step4 = hub.pull(\"rachnogstyle/nlw_jan24_cot_step4\")\n",
    "\n",
    "model = \"gpt-3.5-turbo\"\n",
    "\n",
    "chain1 = LLMChain(\n",
    "    llm = ChatOpenAI(temperature = 0, model = model),\n",
    "    prompt = cot_step1,\n",
    "    output_key = \"solutions\"\n",
    ")\n",
    "\n",
    "chain2 = LLMChain(\n",
    "    llm = ChatOpenAI(temperature = 0, model = model),\n",
    "    prompt = cot_step2,\n",
    "    output_key = \"review\"\n",
    ")\n",
    "\n",
    "chain3 = LLMChain(\n",
    "    llm = ChatOpenAI(temperature = 0, model = model),\n",
    "    prompt = cot_step3,\n",
    "    output_key = \"deepen_thought_process\"\n",
    ")\n",
    "\n",
    "chain4 = LLMChain(\n",
    "    llm = ChatOpenAI(temperature = 0, model = model),\n",
    "    prompt = cot_step4,\n",
    "    output_key = \"ranked_solutions\"\n",
    ")\n",
    "\n",
    "overall_chain = SequentialChain(\n",
    "    chains = [chain1, chain2, chain3, chain4],\n",
    "    input_variables = [\"input\", \"perfect_factors\"],\n",
    "    output_variables = [\"ranked_solutions\"],\n",
    "    verbose = True\n",
    ")"
   ]
  },
  {
   "cell_type": "code",
   "execution_count": 1,
   "metadata": {},
   "outputs": [
    {
     "ename": "NameError",
     "evalue": "name 'LLMChain' is not defined",
     "output_type": "error",
     "traceback": [
      "\u001b[0;31m---------------------------------------------------------------------------\u001b[0m",
      "\u001b[0;31mNameError\u001b[0m                                 Traceback (most recent call last)",
      "Cell \u001b[0;32mIn[1], line 11\u001b[0m\n\u001b[1;32m      7\u001b[0m cot_step4 \u001b[38;5;241m=\u001b[39m hub\u001b[38;5;241m.\u001b[39mpull(\u001b[38;5;124m\"\u001b[39m\u001b[38;5;124mrachnogstyle/nlw_jan24_cot_step4\u001b[39m\u001b[38;5;124m\"\u001b[39m)\n\u001b[1;32m      9\u001b[0m model \u001b[38;5;241m=\u001b[39m \u001b[38;5;124m\"\u001b[39m\u001b[38;5;124mgpt-3.5-turbo\u001b[39m\u001b[38;5;124m\"\u001b[39m\n\u001b[0;32m---> 11\u001b[0m chain1 \u001b[38;5;241m=\u001b[39m \u001b[43mLLMChain\u001b[49m(\n\u001b[1;32m     12\u001b[0m     llm \u001b[38;5;241m=\u001b[39m ChatOpenAI(temperature \u001b[38;5;241m=\u001b[39m \u001b[38;5;241m0\u001b[39m, model \u001b[38;5;241m=\u001b[39m model),\n\u001b[1;32m     13\u001b[0m     prompt \u001b[38;5;241m=\u001b[39m cot_step1,\n\u001b[1;32m     14\u001b[0m     output_key \u001b[38;5;241m=\u001b[39m \u001b[38;5;124m\"\u001b[39m\u001b[38;5;124msolutions\u001b[39m\u001b[38;5;124m\"\u001b[39m\n\u001b[1;32m     15\u001b[0m )\n\u001b[1;32m     17\u001b[0m chain2 \u001b[38;5;241m=\u001b[39m LLMChain(\n\u001b[1;32m     18\u001b[0m     llm \u001b[38;5;241m=\u001b[39m ChatOpenAI(temperature \u001b[38;5;241m=\u001b[39m \u001b[38;5;241m0\u001b[39m, model \u001b[38;5;241m=\u001b[39m model),\n\u001b[1;32m     19\u001b[0m     prompt \u001b[38;5;241m=\u001b[39m cot_step2,\n\u001b[1;32m     20\u001b[0m     output_key \u001b[38;5;241m=\u001b[39m \u001b[38;5;124m\"\u001b[39m\u001b[38;5;124mreview\u001b[39m\u001b[38;5;124m\"\u001b[39m\n\u001b[1;32m     21\u001b[0m )\n\u001b[1;32m     23\u001b[0m chain3 \u001b[38;5;241m=\u001b[39m LLMChain(\n\u001b[1;32m     24\u001b[0m     llm \u001b[38;5;241m=\u001b[39m ChatOpenAI(temperature \u001b[38;5;241m=\u001b[39m \u001b[38;5;241m0\u001b[39m, model \u001b[38;5;241m=\u001b[39m model),\n\u001b[1;32m     25\u001b[0m     prompt \u001b[38;5;241m=\u001b[39m cot_step3,\n\u001b[1;32m     26\u001b[0m     output_key \u001b[38;5;241m=\u001b[39m \u001b[38;5;124m\"\u001b[39m\u001b[38;5;124mdeepen_thought_process\u001b[39m\u001b[38;5;124m\"\u001b[39m\n\u001b[1;32m     27\u001b[0m )\n",
      "\u001b[0;31mNameError\u001b[0m: name 'LLMChain' is not defined"
     ]
    }
   ],
   "source": [
    "from langchain import hub\n",
    "from langchain.chains import SequentialChain\n",
    "\n",
    "cot_step1 = hub.pull(\"rachnogstyle/nlw_jan24_cot_step1\")\n",
    "cot_step2 = hub.pull(\"rachnogstyle/nlw_jan24_cot_step2\")\n",
    "cot_step3 = hub.pull(\"rachnogstyle/nlw_jan24_cot_step3\")\n",
    "cot_step4 = hub.pull(\"rachnogstyle/nlw_jan24_cot_step4\")\n",
    "\n",
    "model = \"gpt-3.5-turbo\"\n",
    "\n",
    "chain1 = LLMChain(\n",
    "    llm = ChatOpenAI(temperature = 0, model = model),\n",
    "    prompt = cot_step1,\n",
    "    output_key = \"solutions\"\n",
    ")\n",
    "\n",
    "chain2 = LLMChain(\n",
    "    llm = ChatOpenAI(temperature = 0, model = model),\n",
    "    prompt = cot_step2,\n",
    "    output_key = \"review\"\n",
    ")\n",
    "\n",
    "chain3 = LLMChain(\n",
    "    llm = ChatOpenAI(temperature = 0, model = model),\n",
    "    prompt = cot_step3,\n",
    "    output_key = \"deepen_thought_process\"\n",
    ")\n",
    "\n",
    "chain4 = LLMChain(\n",
    "    llm = ChatOpenAI(temperature = 0, model = model),\n",
    "    prompt = cot_step4,\n",
    "    output_key = \"ranked_solutions\"\n",
    ")\n",
    "\n",
    "overall_chain = SequentialChain(\n",
    "    chains = [chain1, chain2, chain3, chain4],\n",
    "    input_variables = [\"input\", \"perfect_factors\"],\n",
    "    output_variables = [\"ranked_solutions\"],\n",
    "    verbose = True\n",
    ")"
   ]
  },
  {
   "cell_type": "code",
   "execution_count": null,
   "metadata": {},
   "outputs": [],
   "source": []
  },
  {
   "cell_type": "code",
   "execution_count": null,
   "metadata": {},
   "outputs": [],
   "source": []
  },
  {
   "cell_type": "code",
   "execution_count": null,
   "metadata": {},
   "outputs": [],
   "source": []
  }
 ],
 "metadata": {
  "kernelspec": {
   "display_name": "llm",
   "language": "python",
   "name": "llm"
  },
  "language_info": {
   "codemirror_mode": {
    "name": "ipython",
    "version": 3
   },
   "file_extension": ".py",
   "mimetype": "text/x-python",
   "name": "python",
   "nbconvert_exporter": "python",
   "pygments_lexer": "ipython3",
   "version": "3.8.18"
  }
 },
 "nbformat": 4,
 "nbformat_minor": 2
}
