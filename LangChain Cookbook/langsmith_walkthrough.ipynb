{
 "cells": [
  {
   "cell_type": "code",
   "execution_count": 14,
   "metadata": {},
   "outputs": [
    {
     "data": {
      "text/plain": [
       "True"
      ]
     },
     "execution_count": 14,
     "metadata": {},
     "output_type": "execute_result"
    }
   ],
   "source": [
    "import os\n",
    "from dotenv import load_dotenv, find_dotenv\n",
    "load_dotenv(find_dotenv(), override = True)"
   ]
  },
  {
   "cell_type": "code",
   "execution_count": 13,
   "metadata": {},
   "outputs": [
    {
     "name": "stdout",
     "output_type": "stream",
     "text": [
      "\n"
     ]
    }
   ],
   "source": [
    "os.environ.get(\"OPENAI_API_KEY\")\n",
    "os.environ.get(\"LANGCHAIN_API_KEY\")\n",
    "print()"
   ]
  },
  {
   "cell_type": "code",
   "execution_count": 24,
   "metadata": {},
   "outputs": [],
   "source": [
    "import os\n",
    "from uuid import uuid4\n",
    "\n",
    "unique_id = uuid4().hex[0:8]\n",
    "os.environ[\"LANGCHAIN_TRACING_V2\"] = \"true\"\n",
    "os.environ[\"LANGCHAIN_PROJECT\"] = f\"Tracing Walkthrough - {unique_id}\"\n",
    "os.environ[\"LANGCHAIN_ENDPOINT\"] = \"https://api.smith.langchain.com\""
   ]
  },
  {
   "cell_type": "code",
   "execution_count": 15,
   "metadata": {},
   "outputs": [],
   "source": [
    "from langsmith import Client\n",
    "client = Client()"
   ]
  },
  {
   "cell_type": "code",
   "execution_count": 18,
   "metadata": {},
   "outputs": [],
   "source": [
    "from langchain import hub\n",
    "from langchain.agents import AgentExecutor\n",
    "from langchain.agents.format_scratchpad.openai_tools import (\n",
    "    format_to_openai_tool_messages,\n",
    ")\n",
    "from langchain.agents.output_parsers.openai_tools import OpenAIToolsAgentOutputParser\n",
    "from langchain_community.tools import DuckDuckGoSearchResults\n",
    "from langchain_openai import ChatOpenAI\n",
    "\n",
    "prompt = hub.pull(\"wfh/langsmith-agent-prompt:5d466cbc\")\n",
    "\n",
    "llm = ChatOpenAI(\n",
    "    model = \"gpt-3.5-turbo-16k\",\n",
    "    temperature=0,\n",
    ")\n",
    "\n",
    "tools = [\n",
    "    DuckDuckGoSearchResults(\n",
    "        name = \"duck_duck_go\"\n",
    "    ),\n",
    "]\n",
    "\n",
    "llm_with_tools = llm.bind_tools(tools)\n",
    "\n",
    "runnable_agent = (\n",
    "    {\n",
    "        \"input\" : lambda x : x[\"input\"],\n",
    "        \"agent_scratchpad\" : lambda x : format_to_openai_tool_messages(\n",
    "            x[\"intermediate_steps\"]\n",
    "        ),\n",
    "    }\n",
    "    | prompt\n",
    "    | llm_with_tools\n",
    "    | OpenAIToolsAgentOutputParser()\n",
    ")\n",
    "\n",
    "agent_executor = AgentExecutor(\n",
    "    agent=runnable_agent, tools=tools, handle_parsing_errors=True\n",
    ")"
   ]
  },
  {
   "cell_type": "code",
   "execution_count": 19,
   "metadata": {},
   "outputs": [],
   "source": [
    "inputs = [\n",
    "    \"What is LangChain?\",\n",
    "    \"What's LangSmith?\",\n",
    "    \"When was Llama-v3 released?\",\n",
    "    \"What is the langsmith cookbook?\",\n",
    "    \"When did langchain first announce the hub?\",\n",
    "]\n",
    "\n",
    "results = agent_executor.batch([{\"input\" : x} for x in inputs], return_exceptions=True)"
   ]
  },
  {
   "cell_type": "code",
   "execution_count": 22,
   "metadata": {},
   "outputs": [
    {
     "data": {
      "text/plain": [
       "[{'input': 'What is LangChain?',\n",
       "  'output': 'I\\'m sorry, but I couldn\\'t find any information about \"LangChain\". Could you please provide more context or clarify your question?'},\n",
       " {'input': \"What's LangSmith?\",\n",
       "  'output': 'I\\'m sorry, but I couldn\\'t find any information about \"LangSmith\". It could be a company, a product, or a person. Can you provide more context or details about what you are referring to?'},\n",
       " RuntimeError(\"There is no current event loop in thread 'ThreadPoolExecutor-0_2'.\"),\n",
       " {'input': 'What is the langsmith cookbook?',\n",
       "  'output': 'I\\'m sorry, but I couldn\\'t find any information about the \"Langsmith Cookbook\". It\\'s possible that it may not be a well-known cookbook or it may not exist. Could you provide more context or clarify your question?'},\n",
       " RuntimeError(\"There is no current event loop in thread 'ThreadPoolExecutor-0_4'.\")]"
      ]
     },
     "execution_count": 22,
     "metadata": {},
     "output_type": "execute_result"
    }
   ],
   "source": [
    "results"
   ]
  },
  {
   "cell_type": "code",
   "execution_count": null,
   "metadata": {},
   "outputs": [],
   "source": [
    "\"\"\"\n",
    "1. Create a dataset\n",
    "2. Initialize a new agent to benchmark\n",
    "3. Configure evaluators to grade an agent’s output\n",
    "4. Run the agent over the dataset and evaluate the results\n",
    "\"\"\""
   ]
  },
  {
   "cell_type": "code",
   "execution_count": 23,
   "metadata": {},
   "outputs": [],
   "source": [
    "outputs = [\n",
    "    \"LangChain is an open-source framework for building applications using large language models. It also the name of the company building LangSmith\",\n",
    "    \"LangSmith is a unified platform for debugging, testing, and monitoring language model applications and agents powered by LangChain\",\n",
    "    \"April 19, 2024\",\n",
    "    \"The langsmith cookbook is a github repository containing detailed examples of how to use LangSmith to debug, evaluate, and monitor Large Language Model-powered applications.\",\n",
    "    \"September 5, 2023\"\n",
    "]"
   ]
  },
  {
   "cell_type": "code",
   "execution_count": 25,
   "metadata": {},
   "outputs": [],
   "source": [
    "dataset_name = f\"agent-qa-{unique_id}\"\n",
    "\n",
    "dataset = client.create_dataset(\n",
    "    dataset_name,\n",
    "    description=\"An example dataset of questions over the LangSmith documentation.\",\n",
    ")\n",
    "\n",
    "client.create_examples(\n",
    "    inputs = [{\"input\" : query} for query in inputs],\n",
    "    outputs = [{\"output\" : answer} for answer in outputs],\n",
    "    dataset_id=dataset.id,\n",
    ")"
   ]
  },
  {
   "cell_type": "code",
   "execution_count": 26,
   "metadata": {},
   "outputs": [],
   "source": [
    "from langchain import hub\n",
    "from langchain.agents import AgentExecutor, AgentType, initialize_agent, load_tools\n",
    "from langchain_openai import ChatOpenAI\n",
    "\n",
    "def create_agent(prompt, llm_with_tools):\n",
    "    runnable_agent = (\n",
    "        {\n",
    "            \"input\" : lambda x : x[\"input\"],\n",
    "            \"agent_scratchpad\" : lambda x : format_to_openai_tool_messages(\n",
    "                x[\"intermediate_steps\"]\n",
    "            ),\n",
    "        }\n",
    "        | prompt\n",
    "        | llm_with_tools\n",
    "        | OpenAIToolsAgentOutputParser()\n",
    "    )\n",
    "    return AgentExecutor(agent=runnable_agent, tools = tools, handle_parsing_errors=True)"
   ]
  },
  {
   "cell_type": "code",
   "execution_count": 27,
   "metadata": {},
   "outputs": [],
   "source": [
    "# configure evaluation\n",
    "\n",
    "from langsmith.evaluation import EvaluationResult\n",
    "from langsmith.schemas import Example, Run\n",
    "\n",
    "def check_not_idk(run : Run, example : Example):\n",
    "    \"\"\"Illustration of a custom evaluaor.\"\"\"\n",
    "    agent_response = run.outputs[\"output\"]\n",
    "    if \"don't know\" in agent_response or \"not sure\" in agent_response :\n",
    "        score = 0\n",
    "    else : \n",
    "        score = 1\n",
    "\n",
    "    return EvaluationResult(\n",
    "        key = \"not_uncertain\",\n",
    "        score = score,\n",
    "    )"
   ]
  },
  {
   "cell_type": "code",
   "execution_count": 28,
   "metadata": {},
   "outputs": [],
   "source": [
    "# batch Evaluators\n",
    "\n",
    "from typing import List\n",
    "\n",
    "def max_pred_length(runs : List[Run], examples : List[Example]):\n",
    "    predictions = [len(run.outputs[\"output\"]) for run in runs]\n",
    "    return EvaluationResult(key = \"max_pred_length\", score = max(predictions))"
   ]
  },
  {
   "cell_type": "code",
   "execution_count": 29,
   "metadata": {},
   "outputs": [],
   "source": [
    "from langchain.evaluation import EvaluatorType\n",
    "from langchain.smith import RunEvalConfig\n",
    "\n",
    "evaluation_config = RunEvalConfig(\n",
    "    evaluators=[\n",
    "        check_not_idk,\n",
    "        EvaluatorType.QA,\n",
    "        EvaluatorType.EMBEDDING_DISTANCE,\n",
    "        RunEvalConfig.LabeledCriteria(\"helpfulness\"),\n",
    "        RunEvalConfig.LabeledScoreString(\n",
    "            {\n",
    "                \"accuracy\" :\"\"\"\n",
    "Score 1: The answer is completely unrelated to the reference.\n",
    "Score 3: The answer has minor relevance but does not align with the reference.\n",
    "Score 5: The answer has moderate relevance but contains inaccuracies.\n",
    "Score 7: The answer aligns with the reference but has minor errors or omissions.\n",
    "Score 10: The answer is completely accurate and aligns perfectly with the reference.\n",
    "\"\"\"\n",
    "            },\n",
    "            normalize_by=10,\n",
    "        ),\n",
    "    ],\n",
    "    batch_evaluators=[max_pred_length],\n",
    ")"
   ]
  },
  {
   "cell_type": "code",
   "execution_count": 30,
   "metadata": {},
   "outputs": [],
   "source": [
    "# Run and Evaluator\n",
    "\n",
    "from langchain import hub\n",
    "prompt = hub.pull(\"wfh/langsmith-agent-prompt:798e7324\")"
   ]
  },
  {
   "cell_type": "code",
   "execution_count": 31,
   "metadata": {},
   "outputs": [
    {
     "name": "stdout",
     "output_type": "stream",
     "text": [
      "View the evaluation results for project 'tools-agent-test-5d466cbc-40ac11a6' at:\n",
      "https://smith.langchain.com/o/ea23ed94-4bfe-54f0-9f87-c20e44630cca/datasets/d029f8ae-2630-4ea5-9a8f-81bc20d4bf0b/compare?selectedSessions=3b0ad103-154b-44de-95dc-2a7269c40c7c\n",
      "\n",
      "View all tests for Dataset agent-qa-40ac11a6 at:\n",
      "https://smith.langchain.com/o/ea23ed94-4bfe-54f0-9f87-c20e44630cca/datasets/d029f8ae-2630-4ea5-9a8f-81bc20d4bf0b\n"
     ]
    },
    {
     "name": "stderr",
     "output_type": "stream",
     "text": [
      "/Users/parksunyoung/anaconda3/envs/llm/lib/python3.8/site-packages/langchain_core/_api/deprecation.py:119: LangChainDeprecationWarning: The class `OpenAIEmbeddings` was deprecated in LangChain 0.0.9 and will be removed in 0.2.0. An updated version of the class exists in the langchain-openai package and should be used instead. To use it run `pip install -U langchain-openai` and import as `from langchain_openai import OpenAIEmbeddings`.\n",
      "  warn_deprecated(\n"
     ]
    },
    {
     "name": "stdout",
     "output_type": "stream",
     "text": [
      "[>                                                 ] 0/5"
     ]
    },
    {
     "name": "stderr",
     "output_type": "stream",
     "text": [
      "Chain failed for example 4d59839c-19cb-4885-840b-ed209f8693ae with inputs {'input': 'What is the langsmith cookbook?'}\n",
      "Error Type: RuntimeError, Message: There is no current event loop in thread 'ThreadPoolExecutor-7_3'.\n",
      "Chain failed for example 56213781-f21d-4e3a-85c5-2d7b1c51fb01 with inputs {'input': 'When was Llama-v3 released?'}\n",
      "Error Type: RuntimeError, Message: There is no current event loop in thread 'ThreadPoolExecutor-7_2'.\n"
     ]
    },
    {
     "name": "stdout",
     "output_type": "stream",
     "text": [
      "[------------------->                              ] 2/5"
     ]
    },
    {
     "name": "stderr",
     "output_type": "stream",
     "text": [
      "Chain failed for example 06946fe8-2fe0-43aa-aed3-3c16f1737130 with inputs {'input': \"What's LangSmith?\"}\n",
      "Error Type: RuntimeError, Message: There is no current event loop in thread 'ThreadPoolExecutor-7_1'.\n",
      "Chain failed for example c9541042-cdbb-4fb1-be74-0ede6cb5b222 with inputs {'input': 'When did langchain first announce the hub?'}\n",
      "Error Type: RuntimeError, Message: There is no current event loop in thread 'ThreadPoolExecutor-7_4'.\n"
     ]
    },
    {
     "name": "stdout",
     "output_type": "stream",
     "text": [
      "[--------------------------------------->          ] 4/5"
     ]
    },
    {
     "name": "stderr",
     "output_type": "stream",
     "text": [
      "Error running batch evaluator <function max_pred_length at 0x11fd57b80>: 'NoneType' object is not subscriptable\n"
     ]
    },
    {
     "name": "stdout",
     "output_type": "stream",
     "text": [
      "[------------------------------------------------->] 5/5"
     ]
    },
    {
     "data": {
      "text/html": [
       "<h3>Experiment Results:</h3>"
      ],
      "text/plain": [
       "<IPython.core.display.HTML object>"
      ]
     },
     "metadata": {},
     "output_type": "display_data"
    },
    {
     "data": {
      "text/html": [
       "<div>\n",
       "<style scoped>\n",
       "    .dataframe tbody tr th:only-of-type {\n",
       "        vertical-align: middle;\n",
       "    }\n",
       "\n",
       "    .dataframe tbody tr th {\n",
       "        vertical-align: top;\n",
       "    }\n",
       "\n",
       "    .dataframe thead th {\n",
       "        text-align: right;\n",
       "    }\n",
       "</style>\n",
       "<table border=\"1\" class=\"dataframe\">\n",
       "  <thead>\n",
       "    <tr style=\"text-align: right;\">\n",
       "      <th></th>\n",
       "      <th>feedback.not_uncertain</th>\n",
       "      <th>feedback.correctness</th>\n",
       "      <th>feedback.embedding_cosine_distance</th>\n",
       "      <th>feedback.helpfulness</th>\n",
       "      <th>feedback.score_string:accuracy</th>\n",
       "      <th>error</th>\n",
       "      <th>execution_time</th>\n",
       "      <th>run_id</th>\n",
       "    </tr>\n",
       "  </thead>\n",
       "  <tbody>\n",
       "    <tr>\n",
       "      <th>count</th>\n",
       "      <td>1.0</td>\n",
       "      <td>1.0</td>\n",
       "      <td>1.000000</td>\n",
       "      <td>1.0</td>\n",
       "      <td>1.0</td>\n",
       "      <td>4</td>\n",
       "      <td>5.000000</td>\n",
       "      <td>5</td>\n",
       "    </tr>\n",
       "    <tr>\n",
       "      <th>unique</th>\n",
       "      <td>NaN</td>\n",
       "      <td>NaN</td>\n",
       "      <td>NaN</td>\n",
       "      <td>NaN</td>\n",
       "      <td>NaN</td>\n",
       "      <td>4</td>\n",
       "      <td>NaN</td>\n",
       "      <td>5</td>\n",
       "    </tr>\n",
       "    <tr>\n",
       "      <th>top</th>\n",
       "      <td>NaN</td>\n",
       "      <td>NaN</td>\n",
       "      <td>NaN</td>\n",
       "      <td>NaN</td>\n",
       "      <td>NaN</td>\n",
       "      <td>There is no current event loop in thread 'Thre...</td>\n",
       "      <td>NaN</td>\n",
       "      <td>3a2c9bed-ba6f-433a-9ac9-0923a24e34c8</td>\n",
       "    </tr>\n",
       "    <tr>\n",
       "      <th>freq</th>\n",
       "      <td>NaN</td>\n",
       "      <td>NaN</td>\n",
       "      <td>NaN</td>\n",
       "      <td>NaN</td>\n",
       "      <td>NaN</td>\n",
       "      <td>1</td>\n",
       "      <td>NaN</td>\n",
       "      <td>1</td>\n",
       "    </tr>\n",
       "    <tr>\n",
       "      <th>mean</th>\n",
       "      <td>1.0</td>\n",
       "      <td>0.0</td>\n",
       "      <td>0.105595</td>\n",
       "      <td>0.0</td>\n",
       "      <td>0.1</td>\n",
       "      <td>NaN</td>\n",
       "      <td>1.438028</td>\n",
       "      <td>NaN</td>\n",
       "    </tr>\n",
       "    <tr>\n",
       "      <th>std</th>\n",
       "      <td>NaN</td>\n",
       "      <td>NaN</td>\n",
       "      <td>NaN</td>\n",
       "      <td>NaN</td>\n",
       "      <td>NaN</td>\n",
       "      <td>NaN</td>\n",
       "      <td>0.626396</td>\n",
       "      <td>NaN</td>\n",
       "    </tr>\n",
       "    <tr>\n",
       "      <th>min</th>\n",
       "      <td>1.0</td>\n",
       "      <td>0.0</td>\n",
       "      <td>0.105595</td>\n",
       "      <td>0.0</td>\n",
       "      <td>0.1</td>\n",
       "      <td>NaN</td>\n",
       "      <td>1.022329</td>\n",
       "      <td>NaN</td>\n",
       "    </tr>\n",
       "    <tr>\n",
       "      <th>25%</th>\n",
       "      <td>1.0</td>\n",
       "      <td>0.0</td>\n",
       "      <td>0.105595</td>\n",
       "      <td>0.0</td>\n",
       "      <td>0.1</td>\n",
       "      <td>NaN</td>\n",
       "      <td>1.024985</td>\n",
       "      <td>NaN</td>\n",
       "    </tr>\n",
       "    <tr>\n",
       "      <th>50%</th>\n",
       "      <td>1.0</td>\n",
       "      <td>0.0</td>\n",
       "      <td>0.105595</td>\n",
       "      <td>0.0</td>\n",
       "      <td>0.1</td>\n",
       "      <td>NaN</td>\n",
       "      <td>1.263420</td>\n",
       "      <td>NaN</td>\n",
       "    </tr>\n",
       "    <tr>\n",
       "      <th>75%</th>\n",
       "      <td>1.0</td>\n",
       "      <td>0.0</td>\n",
       "      <td>0.105595</td>\n",
       "      <td>0.0</td>\n",
       "      <td>0.1</td>\n",
       "      <td>NaN</td>\n",
       "      <td>1.351384</td>\n",
       "      <td>NaN</td>\n",
       "    </tr>\n",
       "    <tr>\n",
       "      <th>max</th>\n",
       "      <td>1.0</td>\n",
       "      <td>0.0</td>\n",
       "      <td>0.105595</td>\n",
       "      <td>0.0</td>\n",
       "      <td>0.1</td>\n",
       "      <td>NaN</td>\n",
       "      <td>2.528021</td>\n",
       "      <td>NaN</td>\n",
       "    </tr>\n",
       "  </tbody>\n",
       "</table>\n",
       "</div>"
      ],
      "text/plain": [
       "        feedback.not_uncertain  feedback.correctness  \\\n",
       "count                      1.0                   1.0   \n",
       "unique                     NaN                   NaN   \n",
       "top                        NaN                   NaN   \n",
       "freq                       NaN                   NaN   \n",
       "mean                       1.0                   0.0   \n",
       "std                        NaN                   NaN   \n",
       "min                        1.0                   0.0   \n",
       "25%                        1.0                   0.0   \n",
       "50%                        1.0                   0.0   \n",
       "75%                        1.0                   0.0   \n",
       "max                        1.0                   0.0   \n",
       "\n",
       "        feedback.embedding_cosine_distance  feedback.helpfulness  \\\n",
       "count                             1.000000                   1.0   \n",
       "unique                                 NaN                   NaN   \n",
       "top                                    NaN                   NaN   \n",
       "freq                                   NaN                   NaN   \n",
       "mean                              0.105595                   0.0   \n",
       "std                                    NaN                   NaN   \n",
       "min                               0.105595                   0.0   \n",
       "25%                               0.105595                   0.0   \n",
       "50%                               0.105595                   0.0   \n",
       "75%                               0.105595                   0.0   \n",
       "max                               0.105595                   0.0   \n",
       "\n",
       "        feedback.score_string:accuracy  \\\n",
       "count                              1.0   \n",
       "unique                             NaN   \n",
       "top                                NaN   \n",
       "freq                               NaN   \n",
       "mean                               0.1   \n",
       "std                                NaN   \n",
       "min                                0.1   \n",
       "25%                                0.1   \n",
       "50%                                0.1   \n",
       "75%                                0.1   \n",
       "max                                0.1   \n",
       "\n",
       "                                                    error  execution_time  \\\n",
       "count                                                   4        5.000000   \n",
       "unique                                                  4             NaN   \n",
       "top     There is no current event loop in thread 'Thre...             NaN   \n",
       "freq                                                    1             NaN   \n",
       "mean                                                  NaN        1.438028   \n",
       "std                                                   NaN        0.626396   \n",
       "min                                                   NaN        1.022329   \n",
       "25%                                                   NaN        1.024985   \n",
       "50%                                                   NaN        1.263420   \n",
       "75%                                                   NaN        1.351384   \n",
       "max                                                   NaN        2.528021   \n",
       "\n",
       "                                      run_id  \n",
       "count                                      5  \n",
       "unique                                     5  \n",
       "top     3a2c9bed-ba6f-433a-9ac9-0923a24e34c8  \n",
       "freq                                       1  \n",
       "mean                                     NaN  \n",
       "std                                      NaN  \n",
       "min                                      NaN  \n",
       "25%                                      NaN  \n",
       "50%                                      NaN  \n",
       "75%                                      NaN  \n",
       "max                                      NaN  "
      ]
     },
     "metadata": {},
     "output_type": "display_data"
    }
   ],
   "source": [
    "import functools\n",
    "\n",
    "from langchain.smith import arun_on_dataset, run_on_dataset\n",
    "\n",
    "chain_results = run_on_dataset(\n",
    "    dataset_name=dataset_name,\n",
    "    llm_or_chain_factory=functools.partial(\n",
    "        create_agent, prompt=prompt, llm_with_tools=llm_with_tools\n",
    "    ),\n",
    "    evaluation=evaluation_config,\n",
    "    verbose=True,\n",
    "    client = client,\n",
    "    project_name=f\"tools-agent-test-5d466cbc-{unique_id}\",\n",
    "\n",
    "    project_metadata={\n",
    "        \"env\" : \"testing-notebook\",\n",
    "        \"model\" :\"gpt-3.5-turbo\",\n",
    "        \"prompt\" : \"5d466cbc\",\n",
    "    },\n",
    ")"
   ]
  },
  {
   "cell_type": "code",
   "execution_count": 32,
   "metadata": {},
   "outputs": [
    {
     "data": {
      "text/html": [
       "<div>\n",
       "<style scoped>\n",
       "    .dataframe tbody tr th:only-of-type {\n",
       "        vertical-align: middle;\n",
       "    }\n",
       "\n",
       "    .dataframe tbody tr th {\n",
       "        vertical-align: top;\n",
       "    }\n",
       "\n",
       "    .dataframe thead th {\n",
       "        text-align: right;\n",
       "    }\n",
       "</style>\n",
       "<table border=\"1\" class=\"dataframe\">\n",
       "  <thead>\n",
       "    <tr style=\"text-align: right;\">\n",
       "      <th></th>\n",
       "      <th>inputs.input</th>\n",
       "      <th>outputs.input</th>\n",
       "      <th>outputs.output</th>\n",
       "      <th>reference.output</th>\n",
       "      <th>feedback.not_uncertain</th>\n",
       "      <th>feedback.correctness</th>\n",
       "      <th>feedback.embedding_cosine_distance</th>\n",
       "      <th>feedback.helpfulness</th>\n",
       "      <th>feedback.score_string:accuracy</th>\n",
       "      <th>error</th>\n",
       "      <th>execution_time</th>\n",
       "      <th>run_id</th>\n",
       "    </tr>\n",
       "  </thead>\n",
       "  <tbody>\n",
       "    <tr>\n",
       "      <th>af416890-acb1-4efd-95b1-2256d8668ead</th>\n",
       "      <td>What is LangChain?</td>\n",
       "      <td>What is LangChain?</td>\n",
       "      <td>LangChain is a decentralized blockchain platfo...</td>\n",
       "      <td>LangChain is an open-source framework for buil...</td>\n",
       "      <td>1.0</td>\n",
       "      <td>0.0</td>\n",
       "      <td>0.105595</td>\n",
       "      <td>0.0</td>\n",
       "      <td>0.1</td>\n",
       "      <td>None</td>\n",
       "      <td>2.528021</td>\n",
       "      <td>3a2c9bed-ba6f-433a-9ac9-0923a24e34c8</td>\n",
       "    </tr>\n",
       "    <tr>\n",
       "      <th>06946fe8-2fe0-43aa-aed3-3c16f1737130</th>\n",
       "      <td>What's LangSmith?</td>\n",
       "      <td>NaN</td>\n",
       "      <td>NaN</td>\n",
       "      <td>LangSmith is a unified platform for debugging,...</td>\n",
       "      <td>NaN</td>\n",
       "      <td>NaN</td>\n",
       "      <td>NaN</td>\n",
       "      <td>NaN</td>\n",
       "      <td>NaN</td>\n",
       "      <td>There is no current event loop in thread 'Thre...</td>\n",
       "      <td>1.263420</td>\n",
       "      <td>a1d7d5f5-aa66-4216-bec0-30ec324515fd</td>\n",
       "    </tr>\n",
       "    <tr>\n",
       "      <th>56213781-f21d-4e3a-85c5-2d7b1c51fb01</th>\n",
       "      <td>When was Llama-v3 released?</td>\n",
       "      <td>NaN</td>\n",
       "      <td>NaN</td>\n",
       "      <td>April 19, 2024</td>\n",
       "      <td>NaN</td>\n",
       "      <td>NaN</td>\n",
       "      <td>NaN</td>\n",
       "      <td>NaN</td>\n",
       "      <td>NaN</td>\n",
       "      <td>There is no current event loop in thread 'Thre...</td>\n",
       "      <td>1.022329</td>\n",
       "      <td>67f6c3a4-4369-475d-a19a-f073a80afe98</td>\n",
       "    </tr>\n",
       "    <tr>\n",
       "      <th>4d59839c-19cb-4885-840b-ed209f8693ae</th>\n",
       "      <td>What is the langsmith cookbook?</td>\n",
       "      <td>NaN</td>\n",
       "      <td>NaN</td>\n",
       "      <td>The langsmith cookbook is a github repository ...</td>\n",
       "      <td>NaN</td>\n",
       "      <td>NaN</td>\n",
       "      <td>NaN</td>\n",
       "      <td>NaN</td>\n",
       "      <td>NaN</td>\n",
       "      <td>There is no current event loop in thread 'Thre...</td>\n",
       "      <td>1.024985</td>\n",
       "      <td>a326c587-3c0a-4616-bfa2-bd76787118e2</td>\n",
       "    </tr>\n",
       "    <tr>\n",
       "      <th>c9541042-cdbb-4fb1-be74-0ede6cb5b222</th>\n",
       "      <td>When did langchain first announce the hub?</td>\n",
       "      <td>NaN</td>\n",
       "      <td>NaN</td>\n",
       "      <td>September 5, 2023</td>\n",
       "      <td>NaN</td>\n",
       "      <td>NaN</td>\n",
       "      <td>NaN</td>\n",
       "      <td>NaN</td>\n",
       "      <td>NaN</td>\n",
       "      <td>There is no current event loop in thread 'Thre...</td>\n",
       "      <td>1.351384</td>\n",
       "      <td>1f00cc16-2e32-4ef3-9607-9ea5c466bad9</td>\n",
       "    </tr>\n",
       "  </tbody>\n",
       "</table>\n",
       "</div>"
      ],
      "text/plain": [
       "                                                                    inputs.input  \\\n",
       "af416890-acb1-4efd-95b1-2256d8668ead                          What is LangChain?   \n",
       "06946fe8-2fe0-43aa-aed3-3c16f1737130                           What's LangSmith?   \n",
       "56213781-f21d-4e3a-85c5-2d7b1c51fb01                 When was Llama-v3 released?   \n",
       "4d59839c-19cb-4885-840b-ed209f8693ae             What is the langsmith cookbook?   \n",
       "c9541042-cdbb-4fb1-be74-0ede6cb5b222  When did langchain first announce the hub?   \n",
       "\n",
       "                                           outputs.input  \\\n",
       "af416890-acb1-4efd-95b1-2256d8668ead  What is LangChain?   \n",
       "06946fe8-2fe0-43aa-aed3-3c16f1737130                 NaN   \n",
       "56213781-f21d-4e3a-85c5-2d7b1c51fb01                 NaN   \n",
       "4d59839c-19cb-4885-840b-ed209f8693ae                 NaN   \n",
       "c9541042-cdbb-4fb1-be74-0ede6cb5b222                 NaN   \n",
       "\n",
       "                                                                         outputs.output  \\\n",
       "af416890-acb1-4efd-95b1-2256d8668ead  LangChain is a decentralized blockchain platfo...   \n",
       "06946fe8-2fe0-43aa-aed3-3c16f1737130                                                NaN   \n",
       "56213781-f21d-4e3a-85c5-2d7b1c51fb01                                                NaN   \n",
       "4d59839c-19cb-4885-840b-ed209f8693ae                                                NaN   \n",
       "c9541042-cdbb-4fb1-be74-0ede6cb5b222                                                NaN   \n",
       "\n",
       "                                                                       reference.output  \\\n",
       "af416890-acb1-4efd-95b1-2256d8668ead  LangChain is an open-source framework for buil...   \n",
       "06946fe8-2fe0-43aa-aed3-3c16f1737130  LangSmith is a unified platform for debugging,...   \n",
       "56213781-f21d-4e3a-85c5-2d7b1c51fb01                                     April 19, 2024   \n",
       "4d59839c-19cb-4885-840b-ed209f8693ae  The langsmith cookbook is a github repository ...   \n",
       "c9541042-cdbb-4fb1-be74-0ede6cb5b222                                  September 5, 2023   \n",
       "\n",
       "                                      feedback.not_uncertain  \\\n",
       "af416890-acb1-4efd-95b1-2256d8668ead                     1.0   \n",
       "06946fe8-2fe0-43aa-aed3-3c16f1737130                     NaN   \n",
       "56213781-f21d-4e3a-85c5-2d7b1c51fb01                     NaN   \n",
       "4d59839c-19cb-4885-840b-ed209f8693ae                     NaN   \n",
       "c9541042-cdbb-4fb1-be74-0ede6cb5b222                     NaN   \n",
       "\n",
       "                                      feedback.correctness  \\\n",
       "af416890-acb1-4efd-95b1-2256d8668ead                   0.0   \n",
       "06946fe8-2fe0-43aa-aed3-3c16f1737130                   NaN   \n",
       "56213781-f21d-4e3a-85c5-2d7b1c51fb01                   NaN   \n",
       "4d59839c-19cb-4885-840b-ed209f8693ae                   NaN   \n",
       "c9541042-cdbb-4fb1-be74-0ede6cb5b222                   NaN   \n",
       "\n",
       "                                      feedback.embedding_cosine_distance  \\\n",
       "af416890-acb1-4efd-95b1-2256d8668ead                            0.105595   \n",
       "06946fe8-2fe0-43aa-aed3-3c16f1737130                                 NaN   \n",
       "56213781-f21d-4e3a-85c5-2d7b1c51fb01                                 NaN   \n",
       "4d59839c-19cb-4885-840b-ed209f8693ae                                 NaN   \n",
       "c9541042-cdbb-4fb1-be74-0ede6cb5b222                                 NaN   \n",
       "\n",
       "                                      feedback.helpfulness  \\\n",
       "af416890-acb1-4efd-95b1-2256d8668ead                   0.0   \n",
       "06946fe8-2fe0-43aa-aed3-3c16f1737130                   NaN   \n",
       "56213781-f21d-4e3a-85c5-2d7b1c51fb01                   NaN   \n",
       "4d59839c-19cb-4885-840b-ed209f8693ae                   NaN   \n",
       "c9541042-cdbb-4fb1-be74-0ede6cb5b222                   NaN   \n",
       "\n",
       "                                      feedback.score_string:accuracy  \\\n",
       "af416890-acb1-4efd-95b1-2256d8668ead                             0.1   \n",
       "06946fe8-2fe0-43aa-aed3-3c16f1737130                             NaN   \n",
       "56213781-f21d-4e3a-85c5-2d7b1c51fb01                             NaN   \n",
       "4d59839c-19cb-4885-840b-ed209f8693ae                             NaN   \n",
       "c9541042-cdbb-4fb1-be74-0ede6cb5b222                             NaN   \n",
       "\n",
       "                                                                                  error  \\\n",
       "af416890-acb1-4efd-95b1-2256d8668ead                                               None   \n",
       "06946fe8-2fe0-43aa-aed3-3c16f1737130  There is no current event loop in thread 'Thre...   \n",
       "56213781-f21d-4e3a-85c5-2d7b1c51fb01  There is no current event loop in thread 'Thre...   \n",
       "4d59839c-19cb-4885-840b-ed209f8693ae  There is no current event loop in thread 'Thre...   \n",
       "c9541042-cdbb-4fb1-be74-0ede6cb5b222  There is no current event loop in thread 'Thre...   \n",
       "\n",
       "                                      execution_time  \\\n",
       "af416890-acb1-4efd-95b1-2256d8668ead        2.528021   \n",
       "06946fe8-2fe0-43aa-aed3-3c16f1737130        1.263420   \n",
       "56213781-f21d-4e3a-85c5-2d7b1c51fb01        1.022329   \n",
       "4d59839c-19cb-4885-840b-ed209f8693ae        1.024985   \n",
       "c9541042-cdbb-4fb1-be74-0ede6cb5b222        1.351384   \n",
       "\n",
       "                                                                    run_id  \n",
       "af416890-acb1-4efd-95b1-2256d8668ead  3a2c9bed-ba6f-433a-9ac9-0923a24e34c8  \n",
       "06946fe8-2fe0-43aa-aed3-3c16f1737130  a1d7d5f5-aa66-4216-bec0-30ec324515fd  \n",
       "56213781-f21d-4e3a-85c5-2d7b1c51fb01  67f6c3a4-4369-475d-a19a-f073a80afe98  \n",
       "4d59839c-19cb-4885-840b-ed209f8693ae  a326c587-3c0a-4616-bfa2-bd76787118e2  \n",
       "c9541042-cdbb-4fb1-be74-0ede6cb5b222  1f00cc16-2e32-4ef3-9607-9ea5c466bad9  "
      ]
     },
     "execution_count": 32,
     "metadata": {},
     "output_type": "execute_result"
    }
   ],
   "source": [
    "chain_results.to_dataframe()"
   ]
  },
  {
   "cell_type": "code",
   "execution_count": null,
   "metadata": {},
   "outputs": [],
   "source": []
  },
  {
   "cell_type": "code",
   "execution_count": 33,
   "metadata": {},
   "outputs": [
    {
     "name": "stdout",
     "output_type": "stream",
     "text": [
      "View the evaluation results for project 'tools-agent-test-39f3bbd0-40ac11a6' at:\n",
      "https://smith.langchain.com/o/ea23ed94-4bfe-54f0-9f87-c20e44630cca/datasets/d029f8ae-2630-4ea5-9a8f-81bc20d4bf0b/compare?selectedSessions=a279e55a-77ab-4fed-824e-25da79b8c3d8\n",
      "\n",
      "View all tests for Dataset agent-qa-40ac11a6 at:\n",
      "https://smith.langchain.com/o/ea23ed94-4bfe-54f0-9f87-c20e44630cca/datasets/d029f8ae-2630-4ea5-9a8f-81bc20d4bf0b\n",
      "[>                                                 ] 0/5"
     ]
    },
    {
     "name": "stderr",
     "output_type": "stream",
     "text": [
      "Chain failed for example af416890-acb1-4efd-95b1-2256d8668ead with inputs {'input': 'What is LangChain?'}\n",
      "Error Type: RuntimeError, Message: There is no current event loop in thread 'ThreadPoolExecutor-14_0'.\n",
      "Chain failed for example 4d59839c-19cb-4885-840b-ed209f8693ae with inputs {'input': 'What is the langsmith cookbook?'}\n",
      "Error Type: RuntimeError, Message: There is no current event loop in thread 'ThreadPoolExecutor-14_3'.\n",
      "Chain failed for example 06946fe8-2fe0-43aa-aed3-3c16f1737130 with inputs {'input': \"What's LangSmith?\"}\n",
      "Error Type: RuntimeError, Message: There is no current event loop in thread 'ThreadPoolExecutor-14_1'.\n"
     ]
    },
    {
     "name": "stdout",
     "output_type": "stream",
     "text": [
      "[----------------------------->                    ] 3/5"
     ]
    },
    {
     "name": "stderr",
     "output_type": "stream",
     "text": [
      "Chain failed for example 56213781-f21d-4e3a-85c5-2d7b1c51fb01 with inputs {'input': 'When was Llama-v3 released?'}\n",
      "Error Type: RuntimeError, Message: There is no current event loop in thread 'ThreadPoolExecutor-14_2'.\n",
      "Chain failed for example c9541042-cdbb-4fb1-be74-0ede6cb5b222 with inputs {'input': 'When did langchain first announce the hub?'}\n",
      "Error Type: RuntimeError, Message: There is no current event loop in thread 'ThreadPoolExecutor-14_4'.\n",
      "Error running batch evaluator <function max_pred_length at 0x11fd57b80>: 'NoneType' object is not subscriptable\n"
     ]
    },
    {
     "name": "stdout",
     "output_type": "stream",
     "text": [
      "[------------------------------------------------->] 5/5"
     ]
    },
    {
     "data": {
      "text/html": [
       "<h3>Experiment Results:</h3>"
      ],
      "text/plain": [
       "<IPython.core.display.HTML object>"
      ]
     },
     "metadata": {},
     "output_type": "display_data"
    },
    {
     "data": {
      "text/html": [
       "<div>\n",
       "<style scoped>\n",
       "    .dataframe tbody tr th:only-of-type {\n",
       "        vertical-align: middle;\n",
       "    }\n",
       "\n",
       "    .dataframe tbody tr th {\n",
       "        vertical-align: top;\n",
       "    }\n",
       "\n",
       "    .dataframe thead th {\n",
       "        text-align: right;\n",
       "    }\n",
       "</style>\n",
       "<table border=\"1\" class=\"dataframe\">\n",
       "  <thead>\n",
       "    <tr style=\"text-align: right;\">\n",
       "      <th></th>\n",
       "      <th>error</th>\n",
       "      <th>execution_time</th>\n",
       "      <th>run_id</th>\n",
       "    </tr>\n",
       "  </thead>\n",
       "  <tbody>\n",
       "    <tr>\n",
       "      <th>count</th>\n",
       "      <td>5</td>\n",
       "      <td>5.000000</td>\n",
       "      <td>5</td>\n",
       "    </tr>\n",
       "    <tr>\n",
       "      <th>unique</th>\n",
       "      <td>5</td>\n",
       "      <td>NaN</td>\n",
       "      <td>5</td>\n",
       "    </tr>\n",
       "    <tr>\n",
       "      <th>top</th>\n",
       "      <td>There is no current event loop in thread 'Thre...</td>\n",
       "      <td>NaN</td>\n",
       "      <td>c490fd23-a730-4efd-a5df-c69f5a8c1fdb</td>\n",
       "    </tr>\n",
       "    <tr>\n",
       "      <th>freq</th>\n",
       "      <td>1</td>\n",
       "      <td>NaN</td>\n",
       "      <td>1</td>\n",
       "    </tr>\n",
       "    <tr>\n",
       "      <th>mean</th>\n",
       "      <td>NaN</td>\n",
       "      <td>1.027785</td>\n",
       "      <td>NaN</td>\n",
       "    </tr>\n",
       "    <tr>\n",
       "      <th>std</th>\n",
       "      <td>NaN</td>\n",
       "      <td>0.184764</td>\n",
       "      <td>NaN</td>\n",
       "    </tr>\n",
       "    <tr>\n",
       "      <th>min</th>\n",
       "      <td>NaN</td>\n",
       "      <td>0.842113</td>\n",
       "      <td>NaN</td>\n",
       "    </tr>\n",
       "    <tr>\n",
       "      <th>25%</th>\n",
       "      <td>NaN</td>\n",
       "      <td>0.850531</td>\n",
       "      <td>NaN</td>\n",
       "    </tr>\n",
       "    <tr>\n",
       "      <th>50%</th>\n",
       "      <td>NaN</td>\n",
       "      <td>1.019425</td>\n",
       "      <td>NaN</td>\n",
       "    </tr>\n",
       "    <tr>\n",
       "      <th>75%</th>\n",
       "      <td>NaN</td>\n",
       "      <td>1.184613</td>\n",
       "      <td>NaN</td>\n",
       "    </tr>\n",
       "    <tr>\n",
       "      <th>max</th>\n",
       "      <td>NaN</td>\n",
       "      <td>1.242243</td>\n",
       "      <td>NaN</td>\n",
       "    </tr>\n",
       "  </tbody>\n",
       "</table>\n",
       "</div>"
      ],
      "text/plain": [
       "                                                    error  execution_time  \\\n",
       "count                                                   5        5.000000   \n",
       "unique                                                  5             NaN   \n",
       "top     There is no current event loop in thread 'Thre...             NaN   \n",
       "freq                                                    1             NaN   \n",
       "mean                                                  NaN        1.027785   \n",
       "std                                                   NaN        0.184764   \n",
       "min                                                   NaN        0.842113   \n",
       "25%                                                   NaN        0.850531   \n",
       "50%                                                   NaN        1.019425   \n",
       "75%                                                   NaN        1.184613   \n",
       "max                                                   NaN        1.242243   \n",
       "\n",
       "                                      run_id  \n",
       "count                                      5  \n",
       "unique                                     5  \n",
       "top     c490fd23-a730-4efd-a5df-c69f5a8c1fdb  \n",
       "freq                                       1  \n",
       "mean                                     NaN  \n",
       "std                                      NaN  \n",
       "min                                      NaN  \n",
       "25%                                      NaN  \n",
       "50%                                      NaN  \n",
       "75%                                      NaN  \n",
       "max                                      NaN  "
      ]
     },
     "metadata": {},
     "output_type": "display_data"
    }
   ],
   "source": [
    "# compare to another prompt\n",
    "\n",
    "candidate_prompt = hub.pull(\"wfh/langsmith-agent-prompt:39f3bbd0\")\n",
    "\n",
    "chain_results = run_on_dataset(\n",
    "    dataset_name=dataset_name,\n",
    "    llm_or_chain_factory=functools.partial(\n",
    "        create_agent, prompt=candidate_prompt, llm_with_tools = llm_with_tools\n",
    "    ),\n",
    "    evaluation=evaluation_config,\n",
    "    verbose=True,\n",
    "    client=client,\n",
    "    project_name=f\"tools-agent-test-39f3bbd0-{unique_id}\",\n",
    "    project_metadata={\n",
    "        \"env\" : \"testing-notebook\",\n",
    "        \"model\" : \"gpt-3.5-turbo\",\n",
    "        \"prompt\" : \"39f3bbd0\"\n",
    "    }\n",
    ")"
   ]
  },
  {
   "cell_type": "code",
   "execution_count": 34,
   "metadata": {},
   "outputs": [],
   "source": [
    "# exporting datasets and run\n",
    "\n",
    "runs = client.list_runs(project_name=chain_results[\"project_name\"], execution_order = 1)"
   ]
  },
  {
   "cell_type": "code",
   "execution_count": 35,
   "metadata": {},
   "outputs": [
    {
     "data": {
      "text/plain": [
       "{'env': 'testing-notebook',\n",
       " 'git': {'tags': None,\n",
       "  'dirty': True,\n",
       "  'branch': 'main',\n",
       "  'commit': 'ff00b430956e3ee6733b1938f3dd4fea9982ee8a',\n",
       "  'repo_name': 'LangChain',\n",
       "  'remote_url': 'https://github.com/architectyou/LangChain.git',\n",
       "  'author_name': 'SunYoung Park',\n",
       "  'commit_time': '1707685024',\n",
       "  'author_email': 'youngkairos98@gmail.com'},\n",
       " 'model': 'gpt-3.5-turbo',\n",
       " 'prompt': '39f3bbd0',\n",
       " 'dataset_version': '2024-04-21T16:43:54.799589+00:00'}"
      ]
     },
     "execution_count": 35,
     "metadata": {},
     "output_type": "execute_result"
    }
   ],
   "source": [
    "client.read_project(project_name=chain_results[\"project_name\"]).metadata"
   ]
  },
  {
   "cell_type": "code",
   "execution_count": 36,
   "metadata": {},
   "outputs": [
    {
     "data": {
      "text/plain": [
       "{}"
      ]
     },
     "execution_count": 36,
     "metadata": {},
     "output_type": "execute_result"
    }
   ],
   "source": [
    "client.read_project(project_name=chain_results[\"project_name\"]).feedback_stats"
   ]
  },
  {
   "cell_type": "code",
   "execution_count": null,
   "metadata": {},
   "outputs": [],
   "source": []
  }
 ],
 "metadata": {
  "kernelspec": {
   "display_name": "llm",
   "language": "python",
   "name": "llm"
  },
  "language_info": {
   "codemirror_mode": {
    "name": "ipython",
    "version": 3
   },
   "file_extension": ".py",
   "mimetype": "text/x-python",
   "name": "python",
   "nbconvert_exporter": "python",
   "pygments_lexer": "ipython3",
   "version": "3.8.18"
  }
 },
 "nbformat": 4,
 "nbformat_minor": 2
}
